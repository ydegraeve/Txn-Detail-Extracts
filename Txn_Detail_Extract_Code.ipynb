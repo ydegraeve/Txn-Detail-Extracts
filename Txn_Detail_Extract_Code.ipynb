{
 "cells": [
  {
   "cell_type": "code",
   "execution_count": 5,
   "metadata": {},
   "outputs": [
    {
     "ename": "Error",
     "evalue": "('08001', '[08001] [Microsoft][SQL Server Native Client 11.0]TCP Provider: A connection attempt failed because the connected party did not properly respond after a period of time, or established connection failed because connected host has failed to respond.\\r\\n (10060) (SQLDriverConnect)')",
     "output_type": "error",
     "traceback": [
      "\u001b[1;31m---------------------------------------------------------------------------\u001b[0m",
      "\u001b[1;31mError\u001b[0m                                     Traceback (most recent call last)",
      "\u001b[1;32m<ipython-input-5-86f36eb9a6e8>\u001b[0m in \u001b[0;36m<module>\u001b[1;34m()\u001b[0m\n\u001b[0;32m      2\u001b[0m \u001b[1;32mimport\u001b[0m \u001b[0mpyodbc\u001b[0m\u001b[1;33m\u001b[0m\u001b[0m\n\u001b[0;32m      3\u001b[0m \u001b[1;33m\u001b[0m\u001b[0m\n\u001b[1;32m----> 4\u001b[1;33m \u001b[0mcnxn\u001b[0m \u001b[1;33m=\u001b[0m \u001b[0mpyodbc\u001b[0m\u001b[1;33m.\u001b[0m\u001b[0mconnect\u001b[0m\u001b[1;33m(\u001b[0m\u001b[1;34m'Driver={SQL Server Native Client 11.0};Server=lasr-sqldb-prd-mss,17001;Database=MSS_S_3PD_NS;Trusted_Connection=yes'\u001b[0m\u001b[1;33m)\u001b[0m\u001b[1;33m\u001b[0m\u001b[0m\n\u001b[0m",
      "\u001b[1;31mError\u001b[0m: ('08001', '[08001] [Microsoft][SQL Server Native Client 11.0]TCP Provider: A connection attempt failed because the connected party did not properly respond after a period of time, or established connection failed because connected host has failed to respond.\\r\\n (10060) (SQLDriverConnect)')"
     ]
    }
   ],
   "source": [
    "import pandas as pd\n",
    "import pyodbc\n",
    "\n",
    "cnxn = pyodbc.connect('Driver={SQL Server Native Client 11.0};Server=lasr-sqldb-prd-mss,17001;Database=MSS_S_3PD_NS;Trusted_Connection=yes')"
   ]
  },
  {
   "cell_type": "code",
   "execution_count": 3,
   "metadata": {
    "collapsed": true
   },
   "outputs": [],
   "source": [
    "df2=pd.read_sql(\"\"\"\n",
    "select \n",
    "a11.*,\n",
    "t1.terr_nm as WHSLR_TERR_NM,\n",
    "t2.terr_nm as RPC_TERR_NM,\n",
    "t3.terr_nm as IRM_TERR_NM,\n",
    "b.SHARE_CLASS_NM,\n",
    "c.PLTFM_MODL_PORT_PRGRM,\n",
    "E.FRST_NM,\n",
    "E.LAST_NM\n",
    "from MSS_I_MSSBIBRTXN_S.DBO.FINANCIAL_TRANSACTION  a11\n",
    "--join MSS_I_MSSBI_NS.DBO.FINCL_ITRMY_ORG_BROKER_VW a13 on (a11.CRDTD_TO_ORG_ID = a13.FINCL_ITRMY_ORG_ID)\n",
    "join MSS_I_MSSBI_NS.DBO.FUND_SHARE_CLASS_VW b on (a11.FUND_SHARE_CLASS_ID = b.FUND_SHARE_CLASS_ID)\n",
    "join MSS_I_MSSBI_NS.DBO.LU_PLTFM_MODL_PORT_VW C on (C.PLTFM_MODL_PORT_CD = a11.PLTFM_MODL_PORT_CD)\n",
    "join MSS_I_MSSBI_NS.DBO.FINCL_ITRMY_PERSON_VW E on (E.FINCL_ITRMY_PRSON_UID = a11.FINCL_ITRMY_PRSON_UID)\n",
    "join MSS_I_MSSBIBRDIM_NS.DBO.INVESTMENT_VEHICLE d on a11.INV_VEH_ID = d.INV_VEH_ID\n",
    "LEFT join (\n",
    "            SELECT DISTINCT TERR_ID,SLS_TERR_COVRG_TYP_NM,TERR_NM\n",
    "            FROM\n",
    "            (\n",
    "            SELECT *,DENSE_RANK() OVER (PARTITION BY TERR_ID ORDER BY CR_DT DESC) DENSE_RANK_NUM\n",
    "            FROM [MSS_I_MSSBI_NS].[DBO].TERRITORY_DIM_VW\n",
    "            ) A WHERE DENSE_RANK_NUM = 1\n",
    "          ) as t1 ON t1.TERR_ID = a11.WHSLR_TERR_ID\n",
    "LEFT join (\n",
    "            SELECT DISTINCT TERR_ID,SLS_TERR_COVRG_TYP_NM,TERR_NM\n",
    "            FROM\n",
    "            (\n",
    "            SELECT *,DENSE_RANK() OVER (PARTITION BY TERR_ID ORDER BY CR_DT DESC) DENSE_RANK_NUM\n",
    "            FROM [MSS_I_MSSBI_NS].[DBO].TERRITORY_DIM_VW\n",
    "            ) A WHERE DENSE_RANK_NUM = 1\n",
    "          ) as t2 ON t2.TERR_ID = a11.RPC_TERR_ID\n",
    "LEFT join (\n",
    "            SELECT DISTINCT TERR_ID,SLS_TERR_COVRG_TYP_NM,TERR_NM\n",
    "            FROM\n",
    "            (\n",
    "            SELECT *,DENSE_RANK() OVER (PARTITION BY TERR_ID ORDER BY CR_DT DESC) DENSE_RANK_NUM\n",
    "            FROM [MSS_I_MSSBI_NS].[DBO].TERRITORY_DIM_VW\n",
    "            ) A WHERE DENSE_RANK_NUM = 1\n",
    "          ) as t3 ON t3.TERR_ID = a11.IRM_TERR_ID\n",
    "where a11.MO_NUM >= 201805\n",
    "AND a11.TXN_UID in\n",
    "(\n",
    "4601427699,\n",
    "4601340035,\n",
    "4601421191,\n",
    "4601334799,\n",
    "4601425766,\n",
    "4601341240,\n",
    "4601426773,\n",
    "4601339674,\n",
    "4601428949,\n",
    "4601347390,\n",
    "4601432800,\n",
    "4601352966,\n",
    "4601424385,\n",
    "4601327443,\n",
    "4601423498,\n",
    "4601327007,\n",
    "4601404527,\n",
    "4601345082,\n",
    "4601431489,\n",
    "4601349103,\n",
    "4601379394,\n",
    "4601426763,\n",
    "4601383267,\n",
    "4601428938,\n",
    "4601378444,\n",
    "4601427689,\n",
    "4601375342,\n",
    "4601425756,\n",
    "4601376432,\n",
    "4601421182,\n",
    "4601385643,\n",
    "4601432791,\n",
    "4601372596,\n",
    "4601423489,\n",
    "4601384621,\n",
    "4601374946,\n",
    "4601424380,\n",
    "4601431480,\n",
    "4601374687,\n",
    "4601432997\n",
    ")\n",
    "--AND Convert(varchar,a11.STTLD_DT,112) IN  (20180508)\n",
    "--AND a11.TXN_TYP_CD IN (1101, 1102,1103,1104)\n",
    "AND a11.RPT_SET_CD IN (101,103,105,107,109,113)\n",
    "--AND a11.CRDTD_TO_ORG_ID in (106,306,1105,64)\n",
    "--AND ABS(a11.GROSS_AMT) > 100000\n",
    "ORDER BY ABS(a11.GROSS_AMT) DESC\n",
    "\"\"\",cnxn)\n"
   ]
  },
  {
   "cell_type": "code",
   "execution_count": 6,
   "metadata": {
    "collapsed": true
   },
   "outputs": [],
   "source": [
    "from openpyxl import load_workbook\n",
    "\n",
    "book = load_workbook('C:/Users/KPMYAD/Desktop/SAMPLING/Txn_Detail_Template_20180614Python_NADDG620.xlsx')\n",
    "writer = pd.ExcelWriter('C:/Users/KPMYAD/Desktop/SAMPLING/Txn_Detail_Template_20180614Python_NADDG620.xlsx', engine='openpyxl') \n",
    "writer.book = book\n",
    "writer.sheets = dict((ws.title, ws) for ws in book.worksheets)\n",
    "# Convert the dataframe to an XlsxWriter Excel object.\n",
    "df.to_excel(writer, \"data\")\n",
    "# Close the Pandas Excel writer and output the Excel file.\n",
    "writer.save()"
   ]
  },
  {
   "cell_type": "code",
   "execution_count": null,
   "metadata": {
    "collapsed": true
   },
   "outputs": [],
   "source": []
  }
 ],
 "metadata": {
  "kernelspec": {
   "display_name": "Python 3",
   "language": "python",
   "name": "python3"
  },
  "language_info": {
   "codemirror_mode": {
    "name": "ipython",
    "version": 3
   },
   "file_extension": ".py",
   "mimetype": "text/x-python",
   "name": "python",
   "nbconvert_exporter": "python",
   "pygments_lexer": "ipython3",
   "version": "3.6.1"
  }
 },
 "nbformat": 4,
 "nbformat_minor": 2
}
